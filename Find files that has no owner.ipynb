{
 "cells": [
  {
   "cell_type": "code",
   "execution_count": 13,
   "metadata": {},
   "outputs": [],
   "source": [
    "import os\n",
    "import shutil"
   ]
  },
  {
   "cell_type": "code",
   "execution_count": 21,
   "metadata": {},
   "outputs": [
    {
     "name": "stdout",
     "output_type": "stream",
     "text": [
      "{0, 1, 2, 7, 8, 12, 13, 14, 25, 49, 51, 62, 479, 480, 483, 100, 484, 486, 487, 488, 490, 491, 492, 495, 496, 70000, 498, 499, 65533, 65534}\n",
      ".ipynb_checkpoints\n",
      ".ipynb_checkpoints 0\n",
      "Find files that has no owner.ipynb\n",
      "Find files that has no owner.ipynb 0\n",
      "find uid.ipynb\n",
      "find uid.ipynb 0\n",
      "messages.txt\n",
      "messages.txt 0\n",
      "parser.ipynb\n",
      "parser.ipynb 0\n",
      "passwd.txt\n",
      "passwd.txt 0\n",
      "UID_test.ipynb\n",
      "UID_test.ipynb 0\n"
     ]
    }
   ],
   "source": [
    "# list all user id's in /etc/passwd, append to a set\n",
    "with open(r'C:\\Users\\RRamirez\\Desktop\\py\\passwd.txt') as f:\n",
    "    uid_list=set()\n",
    "    for lines in f.readlines():\n",
    "        data = (lines.split(':'))\n",
    "        user = data[0].strip()\n",
    "        uid = int(data[3])\n",
    "        uid_list.add(uid)\n",
    "    print(uid_list)\n",
    "    \n",
    "# list all files and test if user is in uid_list\n",
    "for files in os.listdir(os.curdir):\n",
    "    print(files)\n",
    "    file_stat=os.stat(files)\n",
    "    if file_stat.st_uid in uid_list:\n",
    "        print (files, file_stat.st_uid)\n",
    "    "
   ]
  },
  {
   "cell_type": "code",
   "execution_count": 64,
   "metadata": {},
   "outputs": [
    {
     "name": "stdout",
     "output_type": "stream",
     "text": [
      "12 users are using /bin/bash shell\n"
     ]
    }
   ],
   "source": [
    "# print all users with shell == \"/bin/bash\"\n",
    "with open(r'C:\\Users\\RRamirez\\Desktop\\py\\passwd.txt') as f:\n",
    "    bash=0\n",
    "    for lines in f.readlines():\n",
    "        data = (lines.split(':'))\n",
    "        user = data[0].strip()\n",
    "        shell = data[6].strip()\n",
    "        if shell == \"/bin/bash\":\n",
    "            bash = bash +1\n",
    "print(f'{bash} users are using /bin/bash shell')\n",
    "        "
   ]
  },
  {
   "cell_type": "code",
   "execution_count": null,
   "metadata": {},
   "outputs": [],
   "source": []
  },
  {
   "cell_type": "code",
   "execution_count": 60,
   "metadata": {},
   "outputs": [
    {
     "name": "stdout",
     "output_type": "stream",
     "text": [
      "my name is ronn\n"
     ]
    }
   ],
   "source": [
    "name=\"ronn\"\n",
    "\n",
    "print(f'my name is {name}')"
   ]
  },
  {
   "cell_type": "code",
   "execution_count": null,
   "metadata": {},
   "outputs": [],
   "source": []
  }
 ],
 "metadata": {
  "kernelspec": {
   "display_name": "Python 3",
   "language": "python",
   "name": "python3"
  },
  "language_info": {
   "codemirror_mode": {
    "name": "ipython",
    "version": 3
   },
   "file_extension": ".py",
   "mimetype": "text/x-python",
   "name": "python",
   "nbconvert_exporter": "python",
   "pygments_lexer": "ipython3",
   "version": "3.6.4"
  }
 },
 "nbformat": 4,
 "nbformat_minor": 2
}
