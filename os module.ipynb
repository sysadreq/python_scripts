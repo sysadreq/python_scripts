{
 "cells": [
  {
   "cell_type": "code",
   "execution_count": 1,
   "metadata": {},
   "outputs": [],
   "source": [
    "import os"
   ]
  },
  {
   "cell_type": "code",
   "execution_count": 3,
   "metadata": {},
   "outputs": [
    {
     "data": {
      "text/plain": [
       "'C:\\\\Users\\\\Ronn\\\\Desktop\\\\py'"
      ]
     },
     "execution_count": 3,
     "metadata": {},
     "output_type": "execute_result"
    }
   ],
   "source": [
    "os.getcwd()"
   ]
  },
  {
   "cell_type": "code",
   "execution_count": 5,
   "metadata": {},
   "outputs": [],
   "source": [
    "directory=os.chdir(r'C:\\\\Users\\\\Ronn\\\\Desktop') # chdir is to change directory"
   ]
  },
  {
   "cell_type": "code",
   "execution_count": 6,
   "metadata": {},
   "outputs": [],
   "source": [
    "desktopfiles=os.listdir(directory) # list the contents of the directory"
   ]
  },
  {
   "cell_type": "code",
   "execution_count": 7,
   "metadata": {},
   "outputs": [
    {
     "data": {
      "text/plain": [
       "list"
      ]
     },
     "execution_count": 7,
     "metadata": {},
     "output_type": "execute_result"
    }
   ],
   "source": [
    "type(desktopfiles) = listdir # listdir puts the contents into an array"
   ]
  },
  {
   "cell_type": "code",
   "execution_count": 8,
   "metadata": {},
   "outputs": [
    {
     "data": {
      "text/plain": [
       "['2018 - Shortcut.lnk',\n",
       " 'backup',\n",
       " 'desktop.ini',\n",
       " 'Old Desktop.lnk',\n",
       " 'psumac2015-101-The_SysAdmin_s_Guide_to_Python.pdf',\n",
       " 'py']"
      ]
     },
     "execution_count": 8,
     "metadata": {},
     "output_type": "execute_result"
    }
   ],
   "source": [
    "desktopfiles"
   ]
  },
  {
   "cell_type": "code",
   "execution_count": 14,
   "metadata": {},
   "outputs": [],
   "source": [
    "import os"
   ]
  },
  {
   "cell_type": "code",
   "execution_count": 15,
   "metadata": {},
   "outputs": [],
   "source": [
    "info=os.stat(r'C:\\\\Users\\\\Ronn\\\\Desktop\\\\py')"
   ]
  },
  {
   "cell_type": "code",
   "execution_count": 16,
   "metadata": {},
   "outputs": [
    {
     "data": {
      "text/plain": [
       "os.stat_result"
      ]
     },
     "execution_count": 16,
     "metadata": {},
     "output_type": "execute_result"
    }
   ],
   "source": [
    "type(info)"
   ]
  },
  {
   "cell_type": "code",
   "execution_count": 17,
   "metadata": {},
   "outputs": [
    {
     "data": {
      "text/plain": [
       "os.stat_result(st_mode=16895, st_ino=1688849860309197, st_dev=2833880076, st_nlink=1, st_uid=0, st_gid=0, st_size=4096, st_atime=1553140409, st_mtime=1553140409, st_ctime=1553055167)"
      ]
     },
     "execution_count": 17,
     "metadata": {},
     "output_type": "execute_result"
    }
   ],
   "source": [
    "info # the return type is an instance of a stat result class"
   ]
  },
  {
   "cell_type": "code",
   "execution_count": 18,
   "metadata": {},
   "outputs": [],
   "source": [
    "import os"
   ]
  },
  {
   "cell_type": "code",
   "execution_count": 31,
   "metadata": {},
   "outputs": [
    {
     "name": "stdout",
     "output_type": "stream",
     "text": [
      "C:\\\\Users\\\\Ronn\\\\Desktop ['backup', 'py'] ['2018 - Shortcut.lnk', 'desktop.ini', 'Old Desktop.lnk', 'psumac2015-101-The_SysAdmin_s_Guide_to_Python.pdf']\n",
      "\n",
      "\n",
      "C:\\\\Users\\\\Ronn\\\\Desktop\\backup ['Final'] []\n",
      "\n",
      "\n",
      "C:\\\\Users\\\\Ronn\\\\Desktop\\backup\\Final [] ['2018 Ramirez R Form 1040  Individual Tax Return_v5.tax2018']\n",
      "\n",
      "\n",
      "C:\\\\Users\\\\Ronn\\\\Desktop\\py ['.ipynb_checkpoints'] ['1.txt', '2.txt', 'check_if_file_exists.ipynb', 'factorial.ipynb', 'mytarfile.tar', 'mytarfile2.tar', 'os module.ipynb', 'passwd.txt', 'positional Arguments.ipynb', 'tar.py.ipynb', 'Turtle.ipynb', 'UID_test.ipynb', 'Untitled.ipynb']\n",
      "\n",
      "\n",
      "C:\\\\Users\\\\Ronn\\\\Desktop\\py\\.ipynb_checkpoints [] ['check_if_file_exists-checkpoint.ipynb', 'factorial-checkpoint.ipynb', 'os module-checkpoint.ipynb', 'positional Arguments-checkpoint.ipynb', 'tar.py-checkpoint.ipynb', 'Turtle-checkpoint.ipynb', 'UID_test-checkpoint.ipynb', 'Untitled-checkpoint.ipynb']\n",
      "\n",
      "\n"
     ]
    }
   ],
   "source": [
    "for dirpath, dirnames, filenames in os.walk(r'C:\\\\Users\\\\Ronn\\\\Desktop'):\n",
    "    print(dirpath, dirnames, filenames)\n",
    "    print('\\n')"
   ]
  },
  {
   "cell_type": "code",
   "execution_count": 24,
   "metadata": {},
   "outputs": [],
   "source": []
  },
  {
   "cell_type": "code",
   "execution_count": 26,
   "metadata": {},
   "outputs": [
    {
     "name": "stdout",
     "output_type": "stream",
     "text": [
      "<generator object walk at 0x00000154BF97C408>\n"
     ]
    }
   ],
   "source": []
  },
  {
   "cell_type": "code",
   "execution_count": null,
   "metadata": {},
   "outputs": [],
   "source": []
  }
 ],
 "metadata": {
  "kernelspec": {
   "display_name": "Python 3",
   "language": "python",
   "name": "python3"
  },
  "language_info": {
   "codemirror_mode": {
    "name": "ipython",
    "version": 3
   },
   "file_extension": ".py",
   "mimetype": "text/x-python",
   "name": "python",
   "nbconvert_exporter": "python",
   "pygments_lexer": "ipython3",
   "version": "3.7.1"
  }
 },
 "nbformat": 4,
 "nbformat_minor": 2
}
