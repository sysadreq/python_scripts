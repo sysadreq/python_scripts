{
 "cells": [
  {
   "cell_type": "code",
   "execution_count": 54,
   "metadata": {},
   "outputs": [
    {
     "name": "stdout",
     "output_type": "stream",
     "text": [
      "admin-rramirez 70000\n"
     ]
    }
   ],
   "source": [
    "# get highest UID from /etc/passwd\n",
    "with open(r'C:\\Users\\RRamirez\\Desktop\\py\\passwd.txt') as f:\n",
    "    highest=0\n",
    "    for lines in f.readlines():\n",
    "        data = (lines.split(':'))\n",
    "        user = data[0].strip()\n",
    "        uid = int(data[3])\n",
    "        if uid > highest:\n",
    "            highest=uid\n",
    "            highestuser=user\n",
    "    print(highestuser,highest)"
   ]
  },
  {
   "cell_type": "code",
   "execution_count": 64,
   "metadata": {},
   "outputs": [
    {
     "name": "stdout",
     "output_type": "stream",
     "text": [
      "12 users are using /bin/bash shell\n"
     ]
    }
   ],
   "source": [
    "# print all users with shell == \"/bin/bash\"\n",
    "with open(r'C:\\Users\\RRamirez\\Desktop\\py\\passwd.txt') as f:\n",
    "    bash=0\n",
    "    for lines in f.readlines():\n",
    "        data = (lines.split(':'))\n",
    "        user = data[0].strip()\n",
    "        shell = data[6].strip()\n",
    "        if shell == \"/bin/bash\":\n",
    "            bash = bash +1\n",
    "print(f'{bash} users are using /bin/bash shell')\n",
    "        "
   ]
  },
  {
   "cell_type": "code",
   "execution_count": null,
   "metadata": {},
   "outputs": [],
   "source": []
  },
  {
   "cell_type": "code",
   "execution_count": 60,
   "metadata": {},
   "outputs": [
    {
     "name": "stdout",
     "output_type": "stream",
     "text": [
      "my name is ronn\n"
     ]
    }
   ],
   "source": [
    "name=\"ronn\"\n",
    "\n",
    "print(f'my name is {name}')"
   ]
  },
  {
   "cell_type": "code",
   "execution_count": null,
   "metadata": {},
   "outputs": [],
   "source": []
  }
 ],
 "metadata": {
  "kernelspec": {
   "display_name": "Python 3",
   "language": "python",
   "name": "python3"
  },
  "language_info": {
   "codemirror_mode": {
    "name": "ipython",
    "version": 3
   },
   "file_extension": ".py",
   "mimetype": "text/x-python",
   "name": "python",
   "nbconvert_exporter": "python",
   "pygments_lexer": "ipython3",
   "version": "3.6.4"
  }
 },
 "nbformat": 4,
 "nbformat_minor": 2
}
